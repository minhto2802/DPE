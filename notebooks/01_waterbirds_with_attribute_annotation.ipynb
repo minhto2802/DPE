{
 "cells": [
  {
   "cell_type": "code",
   "id": "initial_id",
   "metadata": {
    "collapsed": true,
    "ExecuteTime": {
     "end_time": "2025-05-23T19:28:02.466624Z",
     "start_time": "2025-05-23T19:28:02.442041Z"
    }
   },
   "source": [
    "%load_ext autoreload\n",
    "%autoreload 2"
   ],
   "outputs": [],
   "execution_count": 1
  },
  {
   "metadata": {
    "ExecuteTime": {
     "end_time": "2025-05-23T19:28:07.417793Z",
     "start_time": "2025-05-23T19:28:02.731481Z"
    }
   },
   "cell_type": "code",
   "source": [
    "import sys\n",
    "sys.path.append('..')\n",
    "from utils.models import get_backbone\n",
    "from utils.isomaxplus import IsoMaxPlusLossFirstPart, IsoMaxPlusLossSecondPart"
   ],
   "id": "ab79e08c931758dc",
   "outputs": [],
   "execution_count": 2
  },
  {
   "metadata": {
    "ExecuteTime": {
     "end_time": "2025-05-23T19:28:07.850536Z",
     "start_time": "2025-05-23T19:28:07.803205Z"
    }
   },
   "cell_type": "code",
   "source": [
    "import os\n",
    "from glob import glob\n",
    "\n",
    "import torch\n",
    "import torchvision\n",
    "from torch import nn\n",
    "\n",
    "import numpy as np\n",
    "from typing import Optional, Dict, Any\n",
    "\n",
    "\n",
    "def load_model(_ckpt_path, num_classes=2):\n",
    "    ckpt = torch.load(_ckpt_path, map_location=\"cpu\")\n",
    "    _model = torchvision.models.resnet50()\n",
    "    backbone = torch.nn.Sequential(*list(_model.children())[:-1])\n",
    "    emb_dim = _model.fc.in_features\n",
    "    head = IsoMaxPlusLossFirstPart(emb_dim, num_classes)\n",
    "\n",
    "    _model = nn.Sequential(backbone, nn.Flatten(), head)\n",
    "    _model.load_state_dict(ckpt, strict=False)\n",
    "    return _model\n",
    "\n",
    "\n",
    "def get_pre_extracted_features(_ckpt_dir: str, _set_name: str) -> np.ndarray:\n",
    "    pre_extracted_feats = np.load(f'{_ckpt_dir}/feats_{_set_name}.npy', mmap_mode='r')\n",
    "    pre_extracted_feats = ((pre_extracted_feats - pre_extracted_feats.mean(axis=1, keepdims=True)) /\n",
    "                           pre_extracted_feats.std(axis=1, keepdims=True))\n",
    "    return pre_extracted_feats"
   ],
   "id": "60d582eebb803d41",
   "outputs": [],
   "execution_count": 3
  },
  {
   "metadata": {
    "ExecuteTime": {
     "end_time": "2025-05-23T19:28:08.297797Z",
     "start_time": "2025-05-23T19:28:07.986163Z"
    }
   },
   "cell_type": "code",
   "source": [
    "from utils import datasets as dsets\n",
    "from torch.utils.data import DataLoader\n",
    "\n",
    "stage = 1\n",
    "trn_split = 'va'\n",
    "train_attr = 'yes'\n",
    "worst_metric = 'wga_val'\n",
    "subsample_type = 'group'\n",
    "dataset_name = 'Waterbirds'\n",
    "data_dir = '/scratch/ssd004/scratch/minht/datasets/'\n",
    "ckpt_path = '/scratch/ssd004/scratch/minht/checkpoints/sd0/Waterbirds/13574640/'\n",
    "\n",
    "workers = 6\n",
    "batch_size_train, batch_size_eval = 64, 128\n",
    "\n",
    "datasets, dataloaders = dict(), dict()\n",
    "datasets['val'] = vars(dsets)[dataset_name](data_dir, 'va', None)\n",
    "datasets['test'] = vars(dsets)[dataset_name](data_dir, 'te', None)\n",
    "\n",
    "trn_split = 'va'\n",
    "for set_name in ['val', 'test']:\n",
    "    datasets[set_name].feats = get_pre_extracted_features(ckpt_path, set_name)\n",
    "    dataloaders[set_name] = DataLoader(dataset=datasets[set_name], num_workers=workers, pin_memory=False,\n",
    "                                       batch_size=batch_size_eval, shuffle=False)\n",
    "\n",
    "datasets['train'] = vars(dsets)[dataset_name](\n",
    "    data_dir, trn_split, None, train_attr=train_attr, subsample_type=subsample_type, stage=stage,\n",
    "    pre_extracted_feats=datasets['val'].feats)\n",
    "dataloaders['train'] = DataLoader(datasets['train'], batch_size=batch_size_train, drop_last=True, shuffle=True, num_workers=workers, pin_memory=False)"
   ],
   "id": "24572abed65aab99",
   "outputs": [],
   "execution_count": 4
  },
  {
   "metadata": {
    "ExecuteTime": {
     "end_time": "2025-05-23T19:28:17.750117Z",
     "start_time": "2025-05-23T19:28:08.441286Z"
    }
   },
   "cell_type": "code",
   "source": [
    "from tqdm import tqdm\n",
    "# tqdm._instances.clear()\n",
    "\n",
    "from utils.misc import get_scheduler_func\n",
    "\n",
    "epochs = 20\n",
    "cov_reg = 5e5\n",
    "device = 'cuda'\n",
    "wd_weight = 10\n",
    "prototypes_ensemble = None\n",
    "\n",
    "model = load_model(ckpt_path + 'ckpt_last.pt')\n",
    "model.to(device)\n",
    "criterion = IsoMaxPlusLossSecondPart(entropic_scale=30, reduction='mean')\n",
    "optimizer = torch.optim.SGD(model.parameters(), lr=1e-3, momentum=0.9)\n",
    "lr_scheduler = get_scheduler_func('onecycle', 1e-3, epochs, len(dataloaders['train']))(optimizer)\n",
    "\n",
    "for epoch in range(epochs):\n",
    "    model.train()\n",
    "    running_loss, running_clf, running_cov, running_correct, total = 0.0, 0.0, 0.0, 0, 0\n",
    "    pbar = tqdm(dataloaders['train'], desc=f\"Epoch {epoch+1}\", leave=False if epoch < epochs-1 else True,)\n",
    "\n",
    "    for _, inputs, labels, _, _, feats in pbar:\n",
    "        feats = feats.to(device)\n",
    "        labels = labels.to(device)\n",
    "\n",
    "        optimizer.zero_grad()\n",
    "        outputs = model[-1](feats)\n",
    "        clf_loss = criterion(outputs, labels)\n",
    "\n",
    "        head = model[-1]\n",
    "        wd = torch.einsum('ijk,ilk->ijl', [head.prototypes[:, None], head.prototypes[:, None]]) * wd_weight\n",
    "        wd = wd.squeeze().mean()\n",
    "        loss = clf_loss + wd\n",
    "\n",
    "        cov_loss = torch.tensor(0.0, device=device)\n",
    "        if (prototypes_ensemble is not None) and (cov_reg > 0):\n",
    "            _prototypes = torch.cat([head.prototypes[:, None], prototypes_ensemble], dim=1)\n",
    "            n_pro, n_dim = _prototypes.shape[1:]\n",
    "            cov = torch.einsum('ijk,ilk->ijl', [_prototypes, _prototypes]) / (n_dim - 1)\n",
    "            cov_loss = torch.abs(cov[:, 0, 1:].sum(1).div(n_pro).mean())\n",
    "            loss += cov_loss * cov_reg\n",
    "\n",
    "        loss.backward()\n",
    "        optimizer.step()\n",
    "        if lr_scheduler is not None:\n",
    "            lr_scheduler.step()\n",
    "\n",
    "        preds = outputs.argmax(dim=1)\n",
    "        correct = (preds == labels).sum().item()\n",
    "        running_loss += loss.item()\n",
    "        running_clf += clf_loss.item()\n",
    "        running_cov += cov_loss.item()\n",
    "        running_correct += correct\n",
    "        total += labels.size(0)\n",
    "\n",
    "        pbar.set_postfix({\n",
    "            'loss': running_loss / (total // labels.size(0)),\n",
    "            'clf': running_clf / (total // labels.size(0)),\n",
    "            'cov': running_cov / (total // labels.size(0)),\n",
    "            'acc': f\"{running_correct / total:.2%}\"\n",
    "        })\n"
   ],
   "id": "5fc54c72c3d7c025",
   "outputs": [
    {
     "name": "stderr",
     "output_type": "stream",
     "text": [
      "Epoch 20: 100%|██████████| 8/8 [00:00<00:00, 25.36it/s, loss=0.0279, clf=0.0081, cov=0, acc=100.00%] \n"
     ]
    }
   ],
   "execution_count": 5
  },
  {
   "metadata": {
    "ExecuteTime": {
     "end_time": "2025-05-23T19:28:17.859058Z",
     "start_time": "2025-05-23T19:28:17.856121Z"
    }
   },
   "cell_type": "code",
   "source": "",
   "id": "7e866770653afd11",
   "outputs": [],
   "execution_count": null
  }
 ],
 "metadata": {
  "kernelspec": {
   "display_name": "Python 3",
   "language": "python",
   "name": "python3"
  },
  "language_info": {
   "codemirror_mode": {
    "name": "ipython",
    "version": 2
   },
   "file_extension": ".py",
   "mimetype": "text/x-python",
   "name": "python",
   "nbconvert_exporter": "python",
   "pygments_lexer": "ipython2",
   "version": "2.7.6"
  }
 },
 "nbformat": 4,
 "nbformat_minor": 5
}
