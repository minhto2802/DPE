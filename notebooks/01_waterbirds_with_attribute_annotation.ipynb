{
 "cells": [
  {
   "cell_type": "code",
   "id": "initial_id",
   "metadata": {
    "collapsed": true,
    "ExecuteTime": {
     "end_time": "2025-05-24T00:02:46.825230Z",
     "start_time": "2025-05-24T00:02:46.793165Z"
    }
   },
   "source": [
    "%load_ext autoreload\n",
    "%autoreload 2"
   ],
   "outputs": [],
   "execution_count": 1
  },
  {
   "metadata": {
    "ExecuteTime": {
     "end_time": "2025-05-24T00:02:50.712617Z",
     "start_time": "2025-05-24T00:02:47.225059Z"
    }
   },
   "cell_type": "code",
   "source": [
    "import sys\n",
    "sys.path.append('..')\n",
    "from utils.isomaxplus import IsoMaxPlusLossFirstPart, IsoMaxPlusLossSecondPart\n",
    "\n",
    "from utils.misc import fix_random_seed\n",
    "fix_random_seed(0)"
   ],
   "id": "ab79e08c931758dc",
   "outputs": [],
   "execution_count": 2
  },
  {
   "metadata": {
    "ExecuteTime": {
     "end_time": "2025-05-24T00:02:50.901689Z",
     "start_time": "2025-05-24T00:02:50.856418Z"
    }
   },
   "cell_type": "code",
   "source": [
    "import torch\n",
    "import torchvision\n",
    "from torch import nn\n",
    "\n",
    "import numpy as np\n",
    "\n",
    "\n",
    "def init_model(_ckpt_path, num_classes=2, _model=None, device='cuda'):\n",
    "    \"\"\"The backbone is frozen so we only load it once\"\"\"\n",
    "    if _model is None:\n",
    "        ckpt = torch.load(_ckpt_path, map_location=\"cpu\")\n",
    "        _model = torchvision.models.resnet50()\n",
    "        backbone = torch.nn.Sequential(*list(_model.children())[:-1])\n",
    "        emb_dim = _model.fc.in_features\n",
    "        head = IsoMaxPlusLossFirstPart(emb_dim, num_classes)\n",
    "\n",
    "        _model = nn.Sequential(backbone, nn.Flatten(), head)\n",
    "        _model.load_state_dict(ckpt, strict=False)\n",
    "        _model.emb_dim = emb_dim\n",
    "    else:\n",
    "        assert hasattr(_model, \"emb_dim\")\n",
    "        _model[-1] = IsoMaxPlusLossFirstPart(_model.emb_dim, num_classes)\n",
    "    _model.to(device)\n",
    "    return _model\n",
    "\n",
    "\n",
    "def get_pre_extracted_features(_ckpt_dir: str, _set_name: str) -> np.ndarray:\n",
    "    pre_extracted_feats = np.load(f'{_ckpt_dir}/feats_{_set_name}.npy', mmap_mode='r')\n",
    "    pre_extracted_feats = ((pre_extracted_feats - pre_extracted_feats.mean(axis=1, keepdims=True)) /\n",
    "                           pre_extracted_feats.std(axis=1, keepdims=True))\n",
    "    return pre_extracted_feats"
   ],
   "id": "60d582eebb803d41",
   "outputs": [],
   "execution_count": 3
  },
  {
   "metadata": {
    "ExecuteTime": {
     "end_time": "2025-05-24T00:02:51.192430Z",
     "start_time": "2025-05-24T00:02:50.992757Z"
    }
   },
   "cell_type": "code",
   "source": [
    "from utils import datasets as dsets\n",
    "from torch.utils.data import DataLoader\n",
    "\n",
    "stage = 1\n",
    "trn_split = 'va'\n",
    "train_attr = 'yes'\n",
    "worst_metric = 'wga_val'\n",
    "subsample_type = 'group'\n",
    "dataset_name = 'Waterbirds'\n",
    "data_dir = '/scratch/ssd004/scratch/minht/datasets/'\n",
    "ckpt_path = '/scratch/ssd004/scratch/minht/checkpoints/sd0/Waterbirds/13574640/'\n",
    "\n",
    "workers = 6\n",
    "batch_size_train, batch_size_eval = 256, 256\n",
    "\n",
    "datasets, dataloaders = dict(), dict()\n",
    "datasets['val'] = vars(dsets)[dataset_name](data_dir, 'va', None)\n",
    "datasets['test'] = vars(dsets)[dataset_name](data_dir, 'te', None)\n",
    "\n",
    "trn_split = 'va'\n",
    "for set_name in ['val', 'test']:\n",
    "    datasets[set_name].feats = get_pre_extracted_features(ckpt_path, set_name)\n",
    "    dataloaders[set_name] = DataLoader(dataset=datasets[set_name], num_workers=workers, pin_memory=False,\n",
    "                                       batch_size=batch_size_eval, shuffle=False)\n",
    "\n",
    "def get_train_loader():\n",
    "    datasets['train'] = vars(dsets)[dataset_name](\n",
    "        data_dir, trn_split, None, train_attr=train_attr, subsample_type=subsample_type, stage=stage,\n",
    "        pre_extracted_feats=datasets['val'].feats)\n",
    "    train_loader = DataLoader(datasets['train'], batch_size=batch_size_train, drop_last=True, shuffle=True, num_workers=workers, pin_memory=False)\n",
    "    return train_loader"
   ],
   "id": "24572abed65aab99",
   "outputs": [],
   "execution_count": 4
  },
  {
   "metadata": {
    "ExecuteTime": {
     "end_time": "2025-05-24T00:05:31.791717Z",
     "start_time": "2025-05-24T00:02:51.282993Z"
    }
   },
   "cell_type": "code",
   "source": [
    "from tqdm import tqdm\n",
    "\n",
    "from utils.eval_helpers import eval_metrics, get_acc\n",
    "\n",
    "\n",
    "def evaluate_epoch(_model, eval_loader, device='cuda'):\n",
    "    ds = eval_loader.dataset\n",
    "    classes, attributes, groups = np.array(ds.y), np.array(ds._a), np.array(ds.g)\n",
    "    _model.eval()\n",
    "    all_preds = []\n",
    "    with torch.no_grad():\n",
    "        for *_, feats in eval_loader:\n",
    "            feats = feats.to(device)\n",
    "            outputs = _model[-1](feats)\n",
    "            all_preds.append(outputs.detach().softmax(1).cpu())\n",
    "        all_preds = torch.concat(all_preds, dim=0).numpy()\n",
    "        _res = eval_metrics(all_preds, np.array(classes), np.array(attributes), np.array(groups))\n",
    "    return _res['min_group']['accuracy']\n",
    "\n",
    "\n",
    "def evaluate_ensemble(_prototype_ensemble, eval_loader, _model, device='cuda', show_individuals=False):\n",
    "    dist_scales = [_[1].detach() for _ in _prototype_ensemble]\n",
    "    clf = torch.concat([_[0] for _ in _prototype_ensemble], dim=1).detach().transpose(0, 1)\n",
    "    preds_list = torch.zeros(clf.shape[0], len(eval_loader.dataset), eval_loader.dataset.num_labels)\n",
    "\n",
    "    ds = eval_loader.dataset\n",
    "    classes, attributes, groups = np.array(ds.y), np.array(ds._a), np.array(ds.g)\n",
    "\n",
    "    position = 0\n",
    "\n",
    "    with torch.no_grad():\n",
    "        for *_, feats in tqdm(eval_loader, leave=False):\n",
    "            feats = feats.to(device)\n",
    "\n",
    "            for i, _weight in enumerate(clf):\n",
    "                _model[-1].prototypes = torch.nn.Parameter(_weight, requires_grad=False)\n",
    "                _model[-1].distance_scale = nn.Parameter(dist_scales[i], requires_grad=False)\n",
    "                _model.eval()\n",
    "                preds_list[i][position:position + feats.shape[0]] = _model[-1](feats.squeeze())\n",
    "            position += feats.shape[0]\n",
    "\n",
    "    if show_individuals:\n",
    "        for i in range(preds_list.shape[0] - 1, -1, -1):\n",
    "            preds = preds_list[i].softmax(1).argmax(1).numpy()\n",
    "            get_acc(preds, classes, groups)\n",
    "\n",
    "    get_acc(preds_list.softmax(2).mean(0).argmax(1).numpy(), classes, groups)\n",
    "\n",
    "    preds = preds_list.softmax(2).mean(0).detach().cpu().numpy()\n",
    "    _res = eval_metrics(preds, classes, attributes, groups)\n",
    "    return _res\n",
    "\n",
    "\n",
    "def train_prototypes(train_loader, model, _prototype_ensemble=(),\n",
    "                     epochs=20, cov_reg=5e5, wd_weight=10, device='cuda', entropic=30, lr=1e-3, _stage=1):\n",
    "    best_val_wga, val_wga = 0.0, 0.0\n",
    "    best_val_wga_prototype = None\n",
    "\n",
    "    criterion = IsoMaxPlusLossSecondPart(entropic_scale=entropic, reduction='mean')\n",
    "    optimizer = torch.optim.SGD(model.parameters(), lr=lr, momentum=0.9)\n",
    "    if len(prototype_ensemble) > 0:\n",
    "        _prototype_ensemble = torch.concat([_[0] for _ in _prototype_ensemble], dim=1).detach()\n",
    "\n",
    "    for epoch in range(epochs):\n",
    "        model.train()\n",
    "        running_loss, running_clf, running_cov, running_correct, total = 0.0, 0.0, 0.0, 0, 0\n",
    "        pbar = tqdm(train_loader, desc=f\"[Stage {_stage}] Epoch {epoch + 1}\", leave=False if epoch < epochs - 1 else True, )\n",
    "\n",
    "        for _, _, labels, _, _, feats in pbar:\n",
    "            feats = feats.to(device)\n",
    "            labels = labels.to(device)\n",
    "\n",
    "            optimizer.zero_grad()\n",
    "            outputs = model[-1](feats)\n",
    "            clf_loss = criterion(outputs, labels)\n",
    "\n",
    "            head = model[-1]\n",
    "            wd = torch.einsum('ijk,ilk->ijl', [head.prototypes[:, None], head.prototypes[:, None]]) * wd_weight\n",
    "            wd = wd.squeeze().mean()\n",
    "            loss = clf_loss + wd\n",
    "\n",
    "            cov_loss = torch.tensor(0.0, device=device)\n",
    "            if len(_prototype_ensemble) and (cov_reg > 0):\n",
    "                _prototypes = torch.cat([head.prototypes[:, None], _prototype_ensemble], dim=1)\n",
    "                n_pro, n_dim = _prototypes.shape[1:]\n",
    "                cov = torch.einsum('ijk,ilk->ijl', [_prototypes, _prototypes]) / (n_dim - 1)\n",
    "                cov_loss = torch.abs(cov[:, 0, 1:].sum(1).div(n_pro).mean())\n",
    "                loss += cov_loss * cov_reg\n",
    "\n",
    "            loss.backward()\n",
    "            optimizer.step()\n",
    "\n",
    "            preds = outputs.argmax(dim=1)\n",
    "            correct = (preds == labels).sum().item()\n",
    "            running_loss += loss.item()\n",
    "            running_clf += clf_loss.item()\n",
    "            running_cov += cov_loss.item()\n",
    "            running_correct += correct\n",
    "            total += labels.size(0)\n",
    "\n",
    "            pbar.set_postfix({\n",
    "                'loss': running_loss / (total // labels.size(0)),\n",
    "                'clf': running_clf / (total // labels.size(0)),\n",
    "                'cov': running_cov / (total // labels.size(0)),\n",
    "                'acc': f\"{running_correct / total:.2%}\",\n",
    "                'val wga': f\"{val_wga:.2%}\"\n",
    "            })\n",
    "\n",
    "        val_wga = evaluate_epoch(model, dataloaders['val'])\n",
    "        if val_wga >= best_val_wga:\n",
    "            best_val_wga = val_wga\n",
    "            best_val_wga_prototype = [\n",
    "                model[-1].prototypes[:, None].detach().clone(),\n",
    "                model[-1].distance_scale.detach().clone()\n",
    "            ]\n",
    "\n",
    "    return best_val_wga_prototype\n",
    "\n",
    "\n",
    "from functools import partial\n",
    "\n",
    "full_model = None\n",
    "prototype_ensemble = []\n",
    "_train_prototypes = partial(train_prototypes, epochs=20, cov_reg=5e5, wd_weight=10, device='cuda', entropic=30, lr=1e-3)\n",
    "ensemble_wga, ensemble_balanced_acc = [], []\n",
    "\n",
    "for stage in range(1, 16):\n",
    "    full_model = init_model(ckpt_path + 'ckpt_last.pt', num_classes=2, _model=full_model)\n",
    "    prototype_ensemble.append(_train_prototypes(\n",
    "        get_train_loader(), full_model,\n",
    "        _prototype_ensemble=prototype_ensemble, _stage=stage,\n",
    "    ))\n",
    "    res = evaluate_ensemble(prototype_ensemble, dataloaders['test'], full_model, device='cuda')\n",
    "    ensemble_wga.append(res['min_group']['accuracy'])\n",
    "    ensemble_balanced_acc.append(res['overall']['balanced_acc'])\n",
    "    print(f\"Ensemble WGA: {ensemble_wga[-1]*100:.1f}\")"
   ],
   "id": "5fc54c72c3d7c025",
   "outputs": [
    {
     "name": "stderr",
     "output_type": "stream",
     "text": [
      "[Stage 1] Epoch 20: 100%|██████████| 2/2 [00:00<00:00,  8.86it/s, loss=0.111, clf=0.0478, cov=0, acc=98.63%, val wga=92.70%]\n",
      "                                               \r"
     ]
    },
    {
     "name": "stdout",
     "output_type": "stream",
     "text": [
      "Avg ACC: 0.953\n",
      "ACC per group: [0.97, 0.956, 0.916, 0.921]\n",
      "Ensemble WGA: 91.6\n"
     ]
    },
    {
     "name": "stderr",
     "output_type": "stream",
     "text": [
      "[Stage 2] Epoch 20: 100%|██████████| 2/2 [00:00<00:00,  8.69it/s, loss=0.269, clf=0.0448, cov=2.91e-7, acc=98.44%, val wga=96.57%]\n",
      "                                               \r"
     ]
    },
    {
     "name": "stdout",
     "output_type": "stream",
     "text": [
      "Avg ACC: 0.958\n",
      "ACC per group: [0.975, 0.956, 0.931, 0.936]\n",
      "Ensemble WGA: 93.1\n"
     ]
    },
    {
     "name": "stderr",
     "output_type": "stream",
     "text": [
      "[Stage 3] Epoch 20: 100%|██████████| 2/2 [00:00<00:00,  9.17it/s, loss=0.187, clf=0.0722, cov=7.18e-8, acc=98.44%, val wga=92.49%]\n",
      "                                               \r"
     ]
    },
    {
     "name": "stdout",
     "output_type": "stream",
     "text": [
      "Avg ACC: 0.959\n",
      "ACC per group: [0.98, 0.951, 0.927, 0.949]\n",
      "Ensemble WGA: 92.7\n"
     ]
    },
    {
     "name": "stderr",
     "output_type": "stream",
     "text": [
      "[Stage 4] Epoch 20: 100%|██████████| 2/2 [00:00<00:00,  9.21it/s, loss=0.237, clf=0.114, cov=6.57e-8, acc=96.29%, val wga=90.13%] \n",
      "                                              \r"
     ]
    },
    {
     "name": "stdout",
     "output_type": "stream",
     "text": [
      "Avg ACC: 0.961\n",
      "ACC per group: [0.981, 0.955, 0.928, 0.944]\n",
      "Ensemble WGA: 92.8\n"
     ]
    },
    {
     "name": "stderr",
     "output_type": "stream",
     "text": [
      "[Stage 5] Epoch 20: 100%|██████████| 2/2 [00:00<00:00,  8.76it/s, loss=0.224, clf=0.115, cov=5.6e-8, acc=95.31%, val wga=87.22%]  \n",
      "                                               \r"
     ]
    },
    {
     "name": "stdout",
     "output_type": "stream",
     "text": [
      "Avg ACC: 0.962\n",
      "ACC per group: [0.981, 0.953, 0.939, 0.953]\n",
      "Ensemble WGA: 93.9\n"
     ]
    },
    {
     "name": "stderr",
     "output_type": "stream",
     "text": [
      "[Stage 6] Epoch 20: 100%|██████████| 2/2 [00:00<00:00,  8.77it/s, loss=0.272, clf=0.152, cov=5.12e-8, acc=95.31%, val wga=77.25%] \n",
      "                                               \r"
     ]
    },
    {
     "name": "stdout",
     "output_type": "stream",
     "text": [
      "Avg ACC: 0.961\n",
      "ACC per group: [0.98, 0.95, 0.941, 0.952]\n",
      "Ensemble WGA: 94.1\n"
     ]
    },
    {
     "name": "stderr",
     "output_type": "stream",
     "text": [
      "[Stage 7] Epoch 20: 100%|██████████| 2/2 [00:00<00:00,  8.89it/s, loss=0.225, clf=0.117, cov=6.26e-8, acc=95.12%, val wga=86.47%]\n",
      "                                               \r"
     ]
    },
    {
     "name": "stdout",
     "output_type": "stream",
     "text": [
      "Avg ACC: 0.960\n",
      "ACC per group: [0.982, 0.945, 0.939, 0.955]\n",
      "Ensemble WGA: 93.9\n"
     ]
    },
    {
     "name": "stderr",
     "output_type": "stream",
     "text": [
      "[Stage 8] Epoch 20: 100%|██████████| 2/2 [00:00<00:00,  9.03it/s, loss=0.259, clf=0.114, cov=1.41e-7, acc=96.48%, val wga=87.34%]\n",
      "                                               \r"
     ]
    },
    {
     "name": "stdout",
     "output_type": "stream",
     "text": [
      "Avg ACC: 0.962\n",
      "ACC per group: [0.98, 0.951, 0.944, 0.956]\n",
      "Ensemble WGA: 94.4\n"
     ]
    },
    {
     "name": "stderr",
     "output_type": "stream",
     "text": [
      "[Stage 9] Epoch 20: 100%|██████████| 2/2 [00:00<00:00,  9.20it/s, loss=0.191, clf=0.101, cov=5.62e-8, acc=98.63%, val wga=91.42%]\n",
      "                                               \r"
     ]
    },
    {
     "name": "stdout",
     "output_type": "stream",
     "text": [
      "Avg ACC: 0.961\n",
      "ACC per group: [0.979, 0.949, 0.944, 0.956]\n",
      "Ensemble WGA: 94.4\n"
     ]
    },
    {
     "name": "stderr",
     "output_type": "stream",
     "text": [
      "[Stage 10] Epoch 20: 100%|██████████| 2/2 [00:00<00:00,  8.74it/s, loss=0.203, clf=0.1, cov=1.1e-7, acc=98.63%, val wga=89.27%]    \n",
      "                                               \r"
     ]
    },
    {
     "name": "stdout",
     "output_type": "stream",
     "text": [
      "Avg ACC: 0.960\n",
      "ACC per group: [0.98, 0.946, 0.944, 0.956]\n",
      "Ensemble WGA: 94.4\n"
     ]
    },
    {
     "name": "stderr",
     "output_type": "stream",
     "text": [
      "[Stage 11] Epoch 20: 100%|██████████| 2/2 [00:00<00:00,  8.78it/s, loss=0.205, clf=0.0834, cov=1.38e-7, acc=98.05%, val wga=89.06%]\n",
      "                                               \r"
     ]
    },
    {
     "name": "stdout",
     "output_type": "stream",
     "text": [
      "Avg ACC: 0.960\n",
      "ACC per group: [0.978, 0.947, 0.944, 0.956]\n",
      "Ensemble WGA: 94.4\n"
     ]
    },
    {
     "name": "stderr",
     "output_type": "stream",
     "text": [
      "[Stage 12] Epoch 20: 100%|██████████| 2/2 [00:00<00:00,  9.11it/s, loss=0.231, clf=0.134, cov=6.6e-8, acc=96.88%, val wga=81.55%]  \n",
      "                                               \r"
     ]
    },
    {
     "name": "stdout",
     "output_type": "stream",
     "text": [
      "Avg ACC: 0.960\n",
      "ACC per group: [0.978, 0.946, 0.945, 0.955]\n",
      "Ensemble WGA: 94.5\n"
     ]
    },
    {
     "name": "stderr",
     "output_type": "stream",
     "text": [
      "[Stage 13] Epoch 20: 100%|██████████| 2/2 [00:00<00:00,  9.33it/s, loss=0.215, clf=0.105, cov=9.39e-8, acc=97.85%, val wga=81.12%] \n",
      "                                               \r"
     ]
    },
    {
     "name": "stdout",
     "output_type": "stream",
     "text": [
      "Avg ACC: 0.959\n",
      "ACC per group: [0.979, 0.945, 0.945, 0.953]\n",
      "Ensemble WGA: 94.5\n"
     ]
    },
    {
     "name": "stderr",
     "output_type": "stream",
     "text": [
      "[Stage 14] Epoch 20: 100%|██████████| 2/2 [00:00<00:00,  8.64it/s, loss=0.262, clf=0.121, cov=1.65e-7, acc=95.31%, val wga=87.22%] \n",
      "                                               \r"
     ]
    },
    {
     "name": "stdout",
     "output_type": "stream",
     "text": [
      "Avg ACC: 0.959\n",
      "ACC per group: [0.978, 0.947, 0.944, 0.953]\n",
      "Ensemble WGA: 94.4\n"
     ]
    },
    {
     "name": "stderr",
     "output_type": "stream",
     "text": [
      "[Stage 15] Epoch 20: 100%|██████████| 2/2 [00:00<00:00,  8.81it/s, loss=0.233, clf=0.0956, cov=1.66e-7, acc=97.46%, val wga=86.91%]\n",
      "                                               \r"
     ]
    },
    {
     "name": "stdout",
     "output_type": "stream",
     "text": [
      "Avg ACC: 0.960\n",
      "ACC per group: [0.978, 0.948, 0.944, 0.953]\n",
      "Ensemble WGA: 94.4\n"
     ]
    }
   ],
   "execution_count": 5
  },
  {
   "metadata": {
    "ExecuteTime": {
     "end_time": "2025-05-24T00:06:32.749757Z",
     "start_time": "2025-05-24T00:06:32.170299Z"
    }
   },
   "cell_type": "code",
   "source": [
    "import pylab as plt\n",
    "import seaborn as sns\n",
    "fig, axes = plt.subplots(1, 2, figsize=(10, 5))\n",
    "_ = sns.lineplot(ensemble_wga, ax=axes[0])\n",
    "axes[0].set_title('Worst Group Accuracy')\n",
    "axes[0].set_xlabel('Number of Prototypes (Per Class)')\n",
    "_ = sns.lineplot(ensemble_balanced_acc, ax=axes[1])\n",
    "axes[1].set_title('Balanced Accuracy')\n",
    "plt.suptitle('Classification Performance on Waterbirds Dataset')\n",
    "_ = axes[1].set_xlabel('Number of Prototypes (Per Class)')"
   ],
   "id": "28a7732dd1f00b7e",
   "outputs": [
    {
     "data": {
      "text/plain": [
       "<Figure size 1000x500 with 2 Axes>"
      ],
      "image/png": "[encoded data removed]"
     },
     "metadata": {},
     "output_type": "display_data"
    }
   ],
   "execution_count": 10
  }
 ],
 "metadata": {
  "kernelspec": {
   "display_name": "Python 3",
   "language": "python",
   "name": "python3"
  },
  "language_info": {
   "codemirror_mode": {
    "name": "ipython",
    "version": 2
   },
   "file_extension": ".py",
   "mimetype": "text/x-python",
   "name": "python",
   "nbconvert_exporter": "python",
   "pygments_lexer": "ipython2",
   "version": "2.7.6"
  }
 },
 "nbformat": 4,
 "nbformat_minor": 5
}
