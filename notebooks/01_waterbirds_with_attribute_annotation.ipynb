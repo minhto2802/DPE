{
 "cells": [
  {
   "cell_type": "code",
   "id": "initial_id",
   "metadata": {
    "collapsed": true
   },
   "source": [
    "%load_ext autoreload\n",
    "%autoreload 2"
   ],
   "outputs": [],
   "execution_count": null
  },
  {
   "metadata": {
    "ExecuteTime": {
     "end_time": "2025-05-23T05:04:15.513186Z",
     "start_time": "2025-05-23T05:04:15.371200Z"
    }
   },
   "cell_type": "code",
   "source": [
    "import sys\n",
    "sys.path.append('..')\n",
    "from utils.models import get_backbone\n",
    "from utils.isomaxplus import IsoMaxPlusLossFirstPart, IsoMaxPlusLossSecondPart"
   ],
   "id": "ab79e08c931758dc",
   "outputs": [],
   "execution_count": 15
  },
  {
   "metadata": {
    "ExecuteTime": {
     "end_time": "2025-05-23T05:49:51.446373Z",
     "start_time": "2025-05-23T05:49:51.388954Z"
    }
   },
   "cell_type": "code",
   "source": [
    "import os\n",
    "from glob import glob\n",
    "\n",
    "import torch\n",
    "import torchvision\n",
    "from torch import nn\n",
    "\n",
    "import numpy as np\n",
    "from typing import Optional, Dict, Any\n",
    "\n",
    "\n",
    "def load_model(_ckpt_path, num_classes=2):\n",
    "    ckpt = torch.load(_ckpt_path, map_location=\"cpu\")\n",
    "    _model = torchvision.models.resnet50()\n",
    "    backbone = torch.nn.Sequential(*list(_model.children())[:-1])\n",
    "    emb_dim = _model.fc.in_features\n",
    "    head = IsoMaxPlusLossFirstPart(emb_dim, num_classes)\n",
    "\n",
    "    _model = nn.Sequential(backbone, nn.Flatten(), head)\n",
    "    _model.load_state_dict(ckpt, strict=False)\n",
    "    return _model\n",
    "\n",
    "\n",
    "def get_pre_extracted_features(_ckpt_dir: str, _set_name: str) -> np.ndarray:\n",
    "    pre_extracted_feats = np.load(f'{_ckpt_dir}/feats_{_set_name}.npy', mmap_mode='r')\n",
    "    pre_extracted_feats = ((pre_extracted_feats - pre_extracted_feats.mean(axis=1, keepdims=True)) /\n",
    "                           pre_extracted_feats.std(axis=1, keepdims=True))\n",
    "    return pre_extracted_feats"
   ],
   "id": "60d582eebb803d41",
   "outputs": [],
   "execution_count": 37
  },
  {
   "metadata": {
    "ExecuteTime": {
     "end_time": "2025-05-23T06:16:55.638752Z",
     "start_time": "2025-05-23T06:16:55.425855Z"
    }
   },
   "cell_type": "code",
   "source": [
    "from utils import datasets as dsets\n",
    "from torch.utils.data import DataLoader\n",
    "\n",
    "stage = 1\n",
    "trn_split = 'va'\n",
    "train_attr = 'yes'\n",
    "worst_metric = 'wga_val'\n",
    "subsample_type = 'group'\n",
    "dataset_name = 'Waterbirds'\n",
    "data_dir = '/scratch/ssd004/scratch/minht/datasets/'\n",
    "ckpt_path = '/scratch/ssd004/scratch/minht/checkpoints/sd0/Waterbirds/13574640/'\n",
    "\n",
    "workers = 6\n",
    "batch_size_train, batch_size_eval = 64, 128\n",
    "\n",
    "datasets, dataloaders = dict(), dict()\n",
    "datasets['val'] = vars(dsets)[dataset_name](data_dir, 'va', None)\n",
    "datasets['test'] = vars(dsets)[dataset_name](data_dir, 'te', None)\n",
    "\n",
    "trn_split = 'va'\n",
    "for set_name in ['val', 'test']:\n",
    "    datasets[set_name].feats = get_pre_extracted_features(ckpt_path, set_name)\n",
    "    dataloaders[set_name] = DataLoader(dataset=datasets[set_name], num_workers=workers, pin_memory=False,\n",
    "                                       batch_size=batch_size_eval, shuffle=False)\n",
    "\n",
    "datasets['train'] = vars(dsets)[dataset_name](\n",
    "    data_dir, trn_split, None, train_attr=train_attr, subsample_type=subsample_type, stage=stage,\n",
    "    pre_extracted_feats=datasets['val'].feats)\n",
    "dataloaders['train'] = DataLoader(datasets['train'], batch_size=batch_size_train, drop_last=True, shuffle=True, num_workers=workers, pin_memory=False)"
   ],
   "id": "24572abed65aab99",
   "outputs": [],
   "execution_count": 46
  },
  {
   "metadata": {
    "ExecuteTime": {
     "end_time": "2025-05-23T06:23:06.142527Z",
     "start_time": "2025-05-23T06:23:05.184071Z"
    }
   },
   "cell_type": "code",
   "source": [
    "from utils.misc import get_scheduler_func\n",
    "epochs = 20\n",
    "model = load_model(ckpt_path + 'ckpt_last.pt')\n",
    "criterion = IsoMaxPlusLossSecondPart(entropic_scale=30, reduction='mean')\n",
    "optimizer = torch.optim.SGD(model.parameters(), lr=1e-3, momentum=0.9)\n",
    "exp_lr_scheduler = get_scheduler_func('onecycle', 1e-3, epochs, len(dataloaders['train']))(optimizer_ft)"
   ],
   "id": "a065cf23634be5eb",
   "outputs": [],
   "execution_count": 48
  },
  {
   "metadata": {},
   "cell_type": "code",
   "outputs": [],
   "execution_count": null,
   "source": [
    "device = 'gpu'\n",
    "cov_reg = 5e5\n",
    "wd_weight = 10\n",
    "prototypes_ensemble = None\n",
    "\n",
    "for epoch in range(epochs):\n",
    "    for phase in ['train', 'val']:\n",
    "        model.train() if phase == 'train' else model.eval()\n",
    "        all_preds = []\n",
    "        # Iterate over data.\n",
    "        for _, inputs, labels, _, _, feats in dataloaders[phase]:\n",
    "            feats = feats.to(device)\n",
    "            labels = labels.to(device)\n",
    "\n",
    "            # zero the parameter gradients\n",
    "            optimizer.zero_grad()\n",
    "\n",
    "            # forward\n",
    "            cov_loss = torch.tensor(0.0)\n",
    "\n",
    "            with torch.set_grad_enabled(phase == 'train'):\n",
    "                with torch.set_grad_enabled(True):\n",
    "                    outputs = model[-1](feats)\n",
    "                    clf_loss = criterion(outputs, labels)\n",
    "                    if phase == 'train':\n",
    "                        head = model[-1]\n",
    "                        n_classes = head.prototypes.shape[0]\n",
    "                        wd = torch.einsum('ijk,ilk->ijl',\n",
    "                                          [head.prototypes[:, None],\n",
    "                                           head.prototypes[:, None]]) * wd_weight\n",
    "                        wd = wd.squeeze().mean()\n",
    "                        loss = clf_loss + wd\n",
    "                        if (prototypes_ensemble is not None) and (cov_reg > 0):\n",
    "                            _prototypes = torch.concat([head.prototypes[:, None], prototypes_ensemble], dim=1)\n",
    "                            with torch.set_grad_enabled(cov_reg > 0):\n",
    "                                n_pro, n_dim = _prototypes.shape[1:]\n",
    "                                cov = torch.einsum('ijk,ilk->ijl', [_prototypes, _prototypes]) / (n_dim - 1)\n",
    "                                cov_loss = torch.abs(cov[:, 0, 1:].sum(1).div(n_pro).mean())\n",
    "                                if cov_reg:\n",
    "                                    loss = loss + cov_loss * cov_reg\n",
    "\n",
    "                    if phase != 'train':\n",
    "                        all_preds.append(outputs.detach().softmax(1).cpu())\n",
    "                    if phase == 'train':\n",
    "                        loss.backward()\n",
    "                        optimizer.step()"
   ],
   "id": "5fc54c72c3d7c025"
  }
 ],
 "metadata": {
  "kernelspec": {
   "display_name": "Python 3",
   "language": "python",
   "name": "python3"
  },
  "language_info": {
   "codemirror_mode": {
    "name": "ipython",
    "version": 2
   },
   "file_extension": ".py",
   "mimetype": "text/x-python",
   "name": "python",
   "nbconvert_exporter": "python",
   "pygments_lexer": "ipython2",
   "version": "2.7.6"
  }
 },
 "nbformat": 4,
 "nbformat_minor": 5
}
